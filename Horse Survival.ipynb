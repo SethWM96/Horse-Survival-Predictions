{
 "cells": [
  {
   "cell_type": "markdown",
   "id": "ff828149-c332-4ae1-bdb5-46381297a6cf",
   "metadata": {},
   "source": [
    "## Problem Statement\n",
    "\n",
    "Predict the survival of a horse based on various observed medical conditions using decision tree and random forest classifiers. "
   ]
  },
  {
   "cell_type": "code",
   "execution_count": 1,
   "id": "35f693c2-f599-46bc-a550-1ddc322b1050",
   "metadata": {},
   "outputs": [],
   "source": [
    "import pandas as pd\n",
    "import matplotlib.pyplot as plt\n",
    "%matplotlib inline\n",
    "\n",
    "import warnings\n",
    "warnings.filterwarnings('ignore')"
   ]
  },
  {
   "cell_type": "code",
   "execution_count": 2,
   "id": "b79570f6-6d93-4a5f-97f2-bc4aa3cf6149",
   "metadata": {},
   "outputs": [
    {
     "data": {
      "text/plain": [
       "'C:\\\\Users\\\\sethw\\\\Desktop\\\\Caltech Bootcamp\\\\Machine Learning'"
      ]
     },
     "execution_count": 2,
     "metadata": {},
     "output_type": "execute_result"
    }
   ],
   "source": [
    "pwd"
   ]
  },
  {
   "cell_type": "code",
   "execution_count": 4,
   "id": "f4be28c7-3df7-48d7-9747-b8dae993af3a",
   "metadata": {},
   "outputs": [
    {
     "name": "stdout",
     "output_type": "stream",
     "text": [
      "C:\\Users\\sethw\\Desktop\\Caltech Bootcamp\\Machine Learning\\Caltech OSL Datasets\\Lesson_4\\Datasets\n"
     ]
    }
   ],
   "source": [
    "cd Caltech OSL Datasets\\Lesson_4\\Datasets"
   ]
  },
  {
   "cell_type": "code",
   "execution_count": 5,
   "id": "f5899071-c174-4dd9-9e01-d81d88a192cd",
   "metadata": {},
   "outputs": [],
   "source": [
    "animals = pd.read_csv('horse.csv')"
   ]
  },
  {
   "cell_type": "code",
   "execution_count": 6,
   "id": "b81380fd-00fd-4c45-91e7-8afca8a0d8ee",
   "metadata": {},
   "outputs": [
    {
     "name": "stdout",
     "output_type": "stream",
     "text": [
      "<class 'pandas.core.frame.DataFrame'>\n",
      "RangeIndex: 299 entries, 0 to 298\n",
      "Data columns (total 28 columns):\n",
      " #   Column                 Non-Null Count  Dtype  \n",
      "---  ------                 --------------  -----  \n",
      " 0   surgery                299 non-null    object \n",
      " 1   age                    299 non-null    object \n",
      " 2   hospital_number        299 non-null    int64  \n",
      " 3   rectal_temp            239 non-null    float64\n",
      " 4   pulse                  275 non-null    float64\n",
      " 5   respiratory_rate       241 non-null    float64\n",
      " 6   temp_of_extremities    243 non-null    object \n",
      " 7   peripheral_pulse       230 non-null    object \n",
      " 8   mucous_membrane        252 non-null    object \n",
      " 9   capillary_refill_time  267 non-null    object \n",
      " 10  pain                   244 non-null    object \n",
      " 11  peristalsis            255 non-null    object \n",
      " 12  abdominal_distention   243 non-null    object \n",
      " 13  nasogastric_tube       195 non-null    object \n",
      " 14  nasogastric_reflux     193 non-null    object \n",
      " 15  nasogastric_reflux_ph  53 non-null     float64\n",
      " 16  rectal_exam_feces      197 non-null    object \n",
      " 17  abdomen                181 non-null    object \n",
      " 18  packed_cell_volume     270 non-null    float64\n",
      " 19  total_protein          266 non-null    float64\n",
      " 20  abdomo_appearance      134 non-null    object \n",
      " 21  abdomo_protein         101 non-null    float64\n",
      " 22  outcome                299 non-null    object \n",
      " 23  surgical_lesion        299 non-null    object \n",
      " 24  lesion_1               299 non-null    int64  \n",
      " 25  lesion_2               299 non-null    int64  \n",
      " 26  lesion_3               299 non-null    int64  \n",
      " 27  cp_data                299 non-null    object \n",
      "dtypes: float64(7), int64(4), object(17)\n",
      "memory usage: 65.5+ KB\n"
     ]
    }
   ],
   "source": [
    "animals.info()"
   ]
  },
  {
   "cell_type": "code",
   "execution_count": 7,
   "id": "6b31efaa-59a8-4f95-95c8-0b4d2b32834c",
   "metadata": {},
   "outputs": [],
   "source": [
    "target = animals['outcome']"
   ]
  },
  {
   "cell_type": "code",
   "execution_count": 8,
   "id": "f7ba83ce-3acf-4866-a150-6c8d13261864",
   "metadata": {},
   "outputs": [
    {
     "data": {
      "text/plain": [
       "array(['died', 'euthanized', 'lived'], dtype=object)"
      ]
     },
     "execution_count": 8,
     "metadata": {},
     "output_type": "execute_result"
    }
   ],
   "source": [
    "target.unique()"
   ]
  },
  {
   "cell_type": "code",
   "execution_count": 9,
   "id": "98909bf7-dd74-4cc2-9ad1-fd3a859d1a94",
   "metadata": {},
   "outputs": [],
   "source": [
    "animals = animals.drop(['outcome'], axis=1)"
   ]
  },
  {
   "cell_type": "code",
   "execution_count": 11,
   "id": "160dac50-e804-401b-8a60-679720f7d41e",
   "metadata": {},
   "outputs": [],
   "source": [
    "category_variables = animals.select_dtypes(include='object').columns\n",
    "\n",
    "animals = pd.get_dummies(animals, columns=category_variables)"
   ]
  },
  {
   "cell_type": "code",
   "execution_count": 25,
   "id": "71209418-bf66-44a1-bd86-60768b1e3d39",
   "metadata": {},
   "outputs": [
    {
     "data": {
      "text/plain": [
       "Index(['surgery', 'age', 'temp_of_extremities', 'peripheral_pulse',\n",
       "       'mucous_membrane', 'capillary_refill_time', 'pain', 'peristalsis',\n",
       "       'abdominal_distention', 'nasogastric_tube', 'nasogastric_reflux',\n",
       "       'rectal_exam_feces', 'abdomen', 'abdomo_appearance', 'surgical_lesion',\n",
       "       'cp_data'],\n",
       "      dtype='object')"
      ]
     },
     "execution_count": 25,
     "metadata": {},
     "output_type": "execute_result"
    }
   ],
   "source": [
    "category_variables"
   ]
  },
  {
   "cell_type": "code",
   "execution_count": 12,
   "id": "167b9d3f-14b0-47f0-99cd-7922dc404439",
   "metadata": {},
   "outputs": [
    {
     "data": {
      "text/html": [
       "<div>\n",
       "<style scoped>\n",
       "    .dataframe tbody tr th:only-of-type {\n",
       "        vertical-align: middle;\n",
       "    }\n",
       "\n",
       "    .dataframe tbody tr th {\n",
       "        vertical-align: top;\n",
       "    }\n",
       "\n",
       "    .dataframe thead th {\n",
       "        text-align: right;\n",
       "    }\n",
       "</style>\n",
       "<table border=\"1\" class=\"dataframe\">\n",
       "  <thead>\n",
       "    <tr style=\"text-align: right;\">\n",
       "      <th></th>\n",
       "      <th>hospital_number</th>\n",
       "      <th>rectal_temp</th>\n",
       "      <th>pulse</th>\n",
       "      <th>respiratory_rate</th>\n",
       "      <th>nasogastric_reflux_ph</th>\n",
       "      <th>packed_cell_volume</th>\n",
       "      <th>total_protein</th>\n",
       "      <th>abdomo_protein</th>\n",
       "      <th>lesion_1</th>\n",
       "      <th>lesion_2</th>\n",
       "      <th>...</th>\n",
       "      <th>abdomen_firm</th>\n",
       "      <th>abdomen_normal</th>\n",
       "      <th>abdomen_other</th>\n",
       "      <th>abdomo_appearance_clear</th>\n",
       "      <th>abdomo_appearance_cloudy</th>\n",
       "      <th>abdomo_appearance_serosanguious</th>\n",
       "      <th>surgical_lesion_no</th>\n",
       "      <th>surgical_lesion_yes</th>\n",
       "      <th>cp_data_no</th>\n",
       "      <th>cp_data_yes</th>\n",
       "    </tr>\n",
       "  </thead>\n",
       "  <tbody>\n",
       "    <tr>\n",
       "      <th>0</th>\n",
       "      <td>530101</td>\n",
       "      <td>38.5</td>\n",
       "      <td>66.0</td>\n",
       "      <td>28.0</td>\n",
       "      <td>NaN</td>\n",
       "      <td>45.0</td>\n",
       "      <td>8.4</td>\n",
       "      <td>NaN</td>\n",
       "      <td>11300</td>\n",
       "      <td>0</td>\n",
       "      <td>...</td>\n",
       "      <td>0</td>\n",
       "      <td>0</td>\n",
       "      <td>0</td>\n",
       "      <td>0</td>\n",
       "      <td>0</td>\n",
       "      <td>0</td>\n",
       "      <td>1</td>\n",
       "      <td>0</td>\n",
       "      <td>1</td>\n",
       "      <td>0</td>\n",
       "    </tr>\n",
       "    <tr>\n",
       "      <th>1</th>\n",
       "      <td>534817</td>\n",
       "      <td>39.2</td>\n",
       "      <td>88.0</td>\n",
       "      <td>20.0</td>\n",
       "      <td>NaN</td>\n",
       "      <td>50.0</td>\n",
       "      <td>85.0</td>\n",
       "      <td>2.0</td>\n",
       "      <td>2208</td>\n",
       "      <td>0</td>\n",
       "      <td>...</td>\n",
       "      <td>0</td>\n",
       "      <td>0</td>\n",
       "      <td>1</td>\n",
       "      <td>0</td>\n",
       "      <td>1</td>\n",
       "      <td>0</td>\n",
       "      <td>1</td>\n",
       "      <td>0</td>\n",
       "      <td>1</td>\n",
       "      <td>0</td>\n",
       "    </tr>\n",
       "    <tr>\n",
       "      <th>2</th>\n",
       "      <td>530334</td>\n",
       "      <td>38.3</td>\n",
       "      <td>40.0</td>\n",
       "      <td>24.0</td>\n",
       "      <td>NaN</td>\n",
       "      <td>33.0</td>\n",
       "      <td>6.7</td>\n",
       "      <td>NaN</td>\n",
       "      <td>0</td>\n",
       "      <td>0</td>\n",
       "      <td>...</td>\n",
       "      <td>0</td>\n",
       "      <td>1</td>\n",
       "      <td>0</td>\n",
       "      <td>0</td>\n",
       "      <td>0</td>\n",
       "      <td>0</td>\n",
       "      <td>1</td>\n",
       "      <td>0</td>\n",
       "      <td>0</td>\n",
       "      <td>1</td>\n",
       "    </tr>\n",
       "    <tr>\n",
       "      <th>3</th>\n",
       "      <td>5290409</td>\n",
       "      <td>39.1</td>\n",
       "      <td>164.0</td>\n",
       "      <td>84.0</td>\n",
       "      <td>5.0</td>\n",
       "      <td>48.0</td>\n",
       "      <td>7.2</td>\n",
       "      <td>5.3</td>\n",
       "      <td>2208</td>\n",
       "      <td>0</td>\n",
       "      <td>...</td>\n",
       "      <td>0</td>\n",
       "      <td>0</td>\n",
       "      <td>0</td>\n",
       "      <td>0</td>\n",
       "      <td>0</td>\n",
       "      <td>1</td>\n",
       "      <td>0</td>\n",
       "      <td>1</td>\n",
       "      <td>0</td>\n",
       "      <td>1</td>\n",
       "    </tr>\n",
       "    <tr>\n",
       "      <th>4</th>\n",
       "      <td>530255</td>\n",
       "      <td>37.3</td>\n",
       "      <td>104.0</td>\n",
       "      <td>35.0</td>\n",
       "      <td>NaN</td>\n",
       "      <td>74.0</td>\n",
       "      <td>7.4</td>\n",
       "      <td>NaN</td>\n",
       "      <td>4300</td>\n",
       "      <td>0</td>\n",
       "      <td>...</td>\n",
       "      <td>0</td>\n",
       "      <td>0</td>\n",
       "      <td>0</td>\n",
       "      <td>0</td>\n",
       "      <td>0</td>\n",
       "      <td>0</td>\n",
       "      <td>1</td>\n",
       "      <td>0</td>\n",
       "      <td>1</td>\n",
       "      <td>0</td>\n",
       "    </tr>\n",
       "  </tbody>\n",
       "</table>\n",
       "<p>5 rows × 67 columns</p>\n",
       "</div>"
      ],
      "text/plain": [
       "   hospital_number  rectal_temp  pulse  respiratory_rate  \\\n",
       "0           530101         38.5   66.0              28.0   \n",
       "1           534817         39.2   88.0              20.0   \n",
       "2           530334         38.3   40.0              24.0   \n",
       "3          5290409         39.1  164.0              84.0   \n",
       "4           530255         37.3  104.0              35.0   \n",
       "\n",
       "   nasogastric_reflux_ph  packed_cell_volume  total_protein  abdomo_protein  \\\n",
       "0                    NaN                45.0            8.4             NaN   \n",
       "1                    NaN                50.0           85.0             2.0   \n",
       "2                    NaN                33.0            6.7             NaN   \n",
       "3                    5.0                48.0            7.2             5.3   \n",
       "4                    NaN                74.0            7.4             NaN   \n",
       "\n",
       "   lesion_1  lesion_2  ...  abdomen_firm  abdomen_normal  abdomen_other  \\\n",
       "0     11300         0  ...             0               0              0   \n",
       "1      2208         0  ...             0               0              1   \n",
       "2         0         0  ...             0               1              0   \n",
       "3      2208         0  ...             0               0              0   \n",
       "4      4300         0  ...             0               0              0   \n",
       "\n",
       "   abdomo_appearance_clear  abdomo_appearance_cloudy  \\\n",
       "0                        0                         0   \n",
       "1                        0                         1   \n",
       "2                        0                         0   \n",
       "3                        0                         0   \n",
       "4                        0                         0   \n",
       "\n",
       "   abdomo_appearance_serosanguious  surgical_lesion_no  surgical_lesion_yes  \\\n",
       "0                                0                   1                    0   \n",
       "1                                0                   1                    0   \n",
       "2                                0                   1                    0   \n",
       "3                                1                   0                    1   \n",
       "4                                0                   1                    0   \n",
       "\n",
       "   cp_data_no  cp_data_yes  \n",
       "0           1            0  \n",
       "1           1            0  \n",
       "2           0            1  \n",
       "3           0            1  \n",
       "4           1            0  \n",
       "\n",
       "[5 rows x 67 columns]"
      ]
     },
     "execution_count": 12,
     "metadata": {},
     "output_type": "execute_result"
    }
   ],
   "source": [
    "animals.head()"
   ]
  },
  {
   "cell_type": "code",
   "execution_count": 26,
   "id": "135df2b6-ebc2-4dd8-b40e-43097f2d6706",
   "metadata": {},
   "outputs": [
    {
     "data": {
      "text/plain": [
       "Index(['hospital_number', 'rectal_temp', 'pulse', 'respiratory_rate',\n",
       "       'nasogastric_reflux_ph', 'packed_cell_volume', 'total_protein',\n",
       "       'abdomo_protein', 'lesion_1', 'lesion_2', 'lesion_3', 'surgery_no',\n",
       "       'surgery_yes', 'age_adult', 'age_young', 'temp_of_extremities_cold',\n",
       "       'temp_of_extremities_cool', 'temp_of_extremities_normal',\n",
       "       'temp_of_extremities_warm', 'peripheral_pulse_absent',\n",
       "       'peripheral_pulse_increased', 'peripheral_pulse_normal',\n",
       "       'peripheral_pulse_reduced', 'mucous_membrane_bright_pink',\n",
       "       'mucous_membrane_bright_red', 'mucous_membrane_dark_cyanotic',\n",
       "       'mucous_membrane_normal_pink', 'mucous_membrane_pale_cyanotic',\n",
       "       'mucous_membrane_pale_pink', 'capillary_refill_time_3',\n",
       "       'capillary_refill_time_less_3_sec', 'capillary_refill_time_more_3_sec',\n",
       "       'pain_alert', 'pain_depressed', 'pain_extreme_pain', 'pain_mild_pain',\n",
       "       'pain_severe_pain', 'peristalsis_absent', 'peristalsis_hypermotile',\n",
       "       'peristalsis_hypomotile', 'peristalsis_normal',\n",
       "       'abdominal_distention_moderate', 'abdominal_distention_none',\n",
       "       'abdominal_distention_severe', 'abdominal_distention_slight',\n",
       "       'nasogastric_tube_none', 'nasogastric_tube_significant',\n",
       "       'nasogastric_tube_slight', 'nasogastric_reflux_less_1_liter',\n",
       "       'nasogastric_reflux_more_1_liter', 'nasogastric_reflux_none',\n",
       "       'rectal_exam_feces_absent', 'rectal_exam_feces_decreased',\n",
       "       'rectal_exam_feces_increased', 'rectal_exam_feces_normal',\n",
       "       'abdomen_distend_large', 'abdomen_distend_small', 'abdomen_firm',\n",
       "       'abdomen_normal', 'abdomen_other', 'abdomo_appearance_clear',\n",
       "       'abdomo_appearance_cloudy', 'abdomo_appearance_serosanguious',\n",
       "       'surgical_lesion_no', 'surgical_lesion_yes', 'cp_data_no',\n",
       "       'cp_data_yes'],\n",
       "      dtype='object')"
      ]
     },
     "execution_count": 26,
     "metadata": {},
     "output_type": "execute_result"
    }
   ],
   "source": [
    "animals.columns"
   ]
  },
  {
   "cell_type": "code",
   "execution_count": 14,
   "id": "876b30ed-afab-4aa1-8575-9ef85dd4b4b7",
   "metadata": {},
   "outputs": [],
   "source": [
    "from sklearn.model_selection import train_test_split\n",
    "from sklearn.preprocessing import LabelEncoder\n",
    "\n",
    "x, y = animals.values, target.values\n",
    "\n",
    "label_encoder = LabelEncoder()\n",
    "\n",
    "y = label_encoder.fit_transform(y)\n",
    "\n",
    "x_train, x_test, y_train, y_test = train_test_split(x,y, test_size=0.2, random_state=1)"
   ]
  },
  {
   "cell_type": "code",
   "execution_count": 15,
   "id": "cb69f866-9a2c-4c47-a3ec-658216921d4a",
   "metadata": {},
   "outputs": [
    {
     "name": "stdout",
     "output_type": "stream",
     "text": [
      "(239, 67)\n"
     ]
    }
   ],
   "source": [
    "from sklearn.tree import DecisionTreeClassifier\n",
    "print(x_train.shape)"
   ]
  },
  {
   "cell_type": "code",
   "execution_count": 16,
   "id": "b0dc8a21-6f22-4816-adeb-1c275a99901b",
   "metadata": {},
   "outputs": [],
   "source": [
    "from sklearn.impute import SimpleImputer\n",
    "import numpy as np\n",
    "\n",
    "imp = SimpleImputer(missing_values=np.nan, strategy='most_frequent')\n",
    "\n",
    "x_train = imp.fit_transform(x_train)\n",
    "x_test = imp.fit_transform(x_test)"
   ]
  },
  {
   "cell_type": "code",
   "execution_count": 17,
   "id": "ef953436-92d8-4f85-8d17-a0ecab4190e0",
   "metadata": {},
   "outputs": [],
   "source": [
    "classifier = DecisionTreeClassifier()"
   ]
  },
  {
   "cell_type": "code",
   "execution_count": 18,
   "id": "3bb9ebb2-c5d9-4878-8187-59ff3663fe56",
   "metadata": {},
   "outputs": [
    {
     "data": {
      "text/plain": [
       "DecisionTreeClassifier()"
      ]
     },
     "execution_count": 18,
     "metadata": {},
     "output_type": "execute_result"
    }
   ],
   "source": [
    "classifier.fit(x_train,y_train)"
   ]
  },
  {
   "cell_type": "code",
   "execution_count": 19,
   "id": "319c96d6-a983-4420-96fe-850db25a27b2",
   "metadata": {},
   "outputs": [],
   "source": [
    "y_predict = classifier.predict(x_test)"
   ]
  },
  {
   "cell_type": "code",
   "execution_count": 20,
   "id": "5d29c576-0912-4ff9-b035-b12543404490",
   "metadata": {},
   "outputs": [],
   "source": [
    "from sklearn.metrics import accuracy_score"
   ]
  },
  {
   "cell_type": "code",
   "execution_count": 21,
   "id": "ade998cc-ea68-49a2-a430-cdfd8a410294",
   "metadata": {},
   "outputs": [
    {
     "name": "stdout",
     "output_type": "stream",
     "text": [
      "0.6\n"
     ]
    }
   ],
   "source": [
    "accuracy = accuracy_score(y_predict, y_test)\n",
    "print(accuracy)"
   ]
  },
  {
   "cell_type": "code",
   "execution_count": 23,
   "id": "de14aad5-49fe-40be-8d22-fd23db675f18",
   "metadata": {},
   "outputs": [],
   "source": [
    "from sklearn.ensemble import RandomForestClassifier\n",
    "classifier = RandomForestClassifier()"
   ]
  },
  {
   "cell_type": "code",
   "execution_count": 24,
   "id": "eb877e33-8f4b-49e0-bc70-fb4c4e329415",
   "metadata": {},
   "outputs": [
    {
     "name": "stdout",
     "output_type": "stream",
     "text": [
      "0.7333333333333333\n"
     ]
    }
   ],
   "source": [
    "classifier.fit(x_train,y_train)\n",
    "y_predict = classifier.predict(x_test)\n",
    "accuracy = accuracy_score(y_predict, y_test)\n",
    "print(accuracy)"
   ]
  }
 ],
 "metadata": {
  "kernelspec": {
   "display_name": "Python 3 (ipykernel)",
   "language": "python",
   "name": "python3"
  },
  "language_info": {
   "codemirror_mode": {
    "name": "ipython",
    "version": 3
   },
   "file_extension": ".py",
   "mimetype": "text/x-python",
   "name": "python",
   "nbconvert_exporter": "python",
   "pygments_lexer": "ipython3",
   "version": "3.9.13"
  }
 },
 "nbformat": 4,
 "nbformat_minor": 5
}
